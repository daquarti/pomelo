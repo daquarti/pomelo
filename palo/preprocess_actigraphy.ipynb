{
 "cells": [
  {
   "cell_type": "code",
   "execution_count": 1,
   "id": "verified-mouse",
   "metadata": {},
   "outputs": [],
   "source": [
    "lista = []\n",
    "with open('W018 - TAS1H09200365 (2021-07-13)RAW.csv', \"r\") as f:\n",
    "    counter = 0\n",
    "    for line in f:\n",
    "        lista.append (line)\n",
    "        counter += 1\n",
    "        if counter == 30: break"
   ]
  },
  {
   "cell_type": "code",
   "execution_count": 2,
   "id": "affiliated-hughes",
   "metadata": {},
   "outputs": [],
   "source": [
    "from datetime import datetime"
   ]
  },
  {
   "cell_type": "code",
   "execution_count": 3,
   "id": "limiting-biology",
   "metadata": {},
   "outputs": [
    {
     "data": {
      "text/plain": [
       "['------------ Data File Created By ActiGraph GT3X+ ActiLife v6.13.4 Firmware v1.7.2 date format M/d/yyyy at 30 Hz  Filter Normal -----------\\n',\n",
       " 'Serial Number: TAS1H09200365\\n',\n",
       " 'Start Time 18:47:00\\n',\n",
       " 'Start Date 4/21/2021\\n',\n",
       " 'Epoch Period (hh:mm:ss) 00:00:00\\n',\n",
       " 'Download Time 00:00:19\\n',\n",
       " 'Download Date 1/1/2007\\n',\n",
       " 'Current Memory Address: 0\\n',\n",
       " 'Current Battery Voltage: 3.16     Mode = 12\\n',\n",
       " '--------------------------------------------------\\n',\n",
       " 'Accelerometer X,Accelerometer Y,Accelerometer Z\\n',\n",
       " '-0.031,0.016,1.082\\n',\n",
       " '0.008,0.016,1.082\\n',\n",
       " '0.008,0.016,1.082\\n',\n",
       " '0.004,0.016,1.082\\n',\n",
       " '0.004,0.016,1.082\\n',\n",
       " '0.008,0.016,1.082\\n',\n",
       " '0.008,0.02,1.082\\n',\n",
       " '0.004,0.012,1.082\\n',\n",
       " '0,0.008,1.078\\n',\n",
       " '0,0.012,1.082\\n',\n",
       " '0,0.016,1.082\\n',\n",
       " '0.004,0.016,1.082\\n',\n",
       " '0.004,0.016,1.078\\n',\n",
       " '0.004,0.012,1.082\\n',\n",
       " '0,0.016,1.082\\n',\n",
       " '0,0.02,1.078\\n',\n",
       " '0.012,0.012,1.078\\n',\n",
       " '0.004,0.016,1.082\\n',\n",
       " '0,0.008,1.082\\n']"
      ]
     },
     "execution_count": 3,
     "metadata": {},
     "output_type": "execute_result"
    }
   ],
   "source": [
    "lista"
   ]
  },
  {
   "cell_type": "code",
   "execution_count": 4,
   "id": "quantitative-possible",
   "metadata": {},
   "outputs": [],
   "source": [
    "def extract_fecha (lista):\n",
    "    time = []\n",
    "    date = []\n",
    "    for x in lista:\n",
    "        for i, y in enumerate(x.split()):\n",
    "            if y == 'Time':\n",
    "                k = x.split().index(\"Time\")\n",
    "                time.append(x.split()[k+1])\n",
    "            elif y == 'Date':\n",
    "                k = x.split().index(\"Date\")\n",
    "                date.append(x.split()[k+1])\n",
    "    prueba = date[0] + \" \" + time[0]\n",
    "    datetime_object = datetime.strptime(prueba, '%m/%d/%Y %H:%M:%S')\n",
    "    return datetime_object"
   ]
  },
  {
   "cell_type": "code",
   "execution_count": 5,
   "id": "fatty-bible",
   "metadata": {},
   "outputs": [],
   "source": [
    "fecha_activacion = extract_fecha(lista)"
   ]
  },
  {
   "cell_type": "code",
   "execution_count": 9,
   "id": "waiting-stable",
   "metadata": {},
   "outputs": [
    {
     "data": {
      "text/plain": [
       "datetime.datetime(2021, 4, 21, 18, 47)"
      ]
     },
     "execution_count": 9,
     "metadata": {},
     "output_type": "execute_result"
    }
   ],
   "source": [
    "fecha_activacion"
   ]
  },
  {
   "cell_type": "code",
   "execution_count": 11,
   "id": "turned-lighting",
   "metadata": {},
   "outputs": [],
   "source": [
    "import datetime"
   ]
  },
  {
   "cell_type": "code",
   "execution_count": 32,
   "id": "bright-concentrate",
   "metadata": {},
   "outputs": [
    {
     "data": {
      "text/plain": [
       "9040139.802279"
      ]
     },
     "execution_count": 32,
     "metadata": {},
     "output_type": "execute_result"
    }
   ],
   "source": [
    "# Prueba para restar segundos\n",
    "a = datetime.datetime.now()\n",
    "b = fecha_activacion\n",
    "c = a - b\n",
    "c.total_seconds()"
   ]
  },
  {
   "cell_type": "code",
   "execution_count": null,
   "id": "varied-fountain",
   "metadata": {},
   "outputs": [],
   "source": []
  },
  {
   "cell_type": "code",
   "execution_count": null,
   "id": "resistant-electronics",
   "metadata": {},
   "outputs": [],
   "source": []
  },
  {
   "cell_type": "code",
   "execution_count": 1,
   "id": "dominant-andrew",
   "metadata": {},
   "outputs": [],
   "source": [
    "import pandas as pd"
   ]
  },
  {
   "cell_type": "code",
   "execution_count": 2,
   "id": "engaging-waterproof",
   "metadata": {},
   "outputs": [],
   "source": [
    "df = pd.read_excel ('Dates.xlsx', engine='openpyxl', header= 1)"
   ]
  },
  {
   "cell_type": "code",
   "execution_count": 3,
   "id": "urban-reaction",
   "metadata": {},
   "outputs": [],
   "source": [
    "df['segundos_usando_devive'] = (df['notified EOS'] - df['activation date']).dt.total_seconds()"
   ]
  },
  {
   "cell_type": "code",
   "execution_count": 4,
   "id": "authentic-invitation",
   "metadata": {},
   "outputs": [],
   "source": [
    "df['dias_usando_devive'] = df['notified EOS'] - df['activation date']"
   ]
  },
  {
   "cell_type": "code",
   "execution_count": 5,
   "id": "norwegian-overall",
   "metadata": {},
   "outputs": [],
   "source": [
    "df['rows_to_split'] = df['segundos_usando_devive'] * 30"
   ]
  },
  {
   "cell_type": "code",
   "execution_count": 6,
   "id": "configured-supplier",
   "metadata": {},
   "outputs": [],
   "source": [
    "df['rows_to_split'] = df['rows_to_split'].astype(int)"
   ]
  },
  {
   "cell_type": "code",
   "execution_count": 7,
   "id": "previous-checkout",
   "metadata": {},
   "outputs": [
    {
     "data": {
      "text/html": [
       "<div>\n",
       "<style scoped>\n",
       "    .dataframe tbody tr th:only-of-type {\n",
       "        vertical-align: middle;\n",
       "    }\n",
       "\n",
       "    .dataframe tbody tr th {\n",
       "        vertical-align: top;\n",
       "    }\n",
       "\n",
       "    .dataframe thead th {\n",
       "        text-align: right;\n",
       "    }\n",
       "</style>\n",
       "<table border=\"1\" class=\"dataframe\">\n",
       "  <thead>\n",
       "    <tr style=\"text-align: right;\">\n",
       "      <th></th>\n",
       "      <th>Unnamed: 0</th>\n",
       "      <th>wearable id</th>\n",
       "      <th>activation date</th>\n",
       "      <th>notified EOS</th>\n",
       "      <th>Hours Recorded</th>\n",
       "      <th>Submitted Q</th>\n",
       "      <th>segundos_usando_devive</th>\n",
       "      <th>dias_usando_devive</th>\n",
       "      <th>rows_to_split</th>\n",
       "    </tr>\n",
       "  </thead>\n",
       "  <tbody>\n",
       "    <tr>\n",
       "      <th>0</th>\n",
       "      <td>NaN</td>\n",
       "      <td>W001</td>\n",
       "      <td>2021-04-20</td>\n",
       "      <td>2021-05-11</td>\n",
       "      <td>102.555000</td>\n",
       "      <td>9</td>\n",
       "      <td>1814400.0</td>\n",
       "      <td>21 days</td>\n",
       "      <td>54432000</td>\n",
       "    </tr>\n",
       "    <tr>\n",
       "      <th>1</th>\n",
       "      <td>NaN</td>\n",
       "      <td>W007</td>\n",
       "      <td>2021-03-08</td>\n",
       "      <td>2021-03-29</td>\n",
       "      <td>463.413800</td>\n",
       "      <td>7</td>\n",
       "      <td>1814400.0</td>\n",
       "      <td>21 days</td>\n",
       "      <td>54432000</td>\n",
       "    </tr>\n",
       "    <tr>\n",
       "      <th>2</th>\n",
       "      <td>NaN</td>\n",
       "      <td>W010</td>\n",
       "      <td>2021-02-18</td>\n",
       "      <td>2021-03-03</td>\n",
       "      <td>293.589000</td>\n",
       "      <td>5</td>\n",
       "      <td>1123200.0</td>\n",
       "      <td>13 days</td>\n",
       "      <td>33696000</td>\n",
       "    </tr>\n",
       "    <tr>\n",
       "      <th>3</th>\n",
       "      <td>NaN</td>\n",
       "      <td>W011</td>\n",
       "      <td>2021-05-17</td>\n",
       "      <td>2021-06-07</td>\n",
       "      <td>332.164000</td>\n",
       "      <td>7</td>\n",
       "      <td>1814400.0</td>\n",
       "      <td>21 days</td>\n",
       "      <td>54432000</td>\n",
       "    </tr>\n",
       "    <tr>\n",
       "      <th>4</th>\n",
       "      <td>NaN</td>\n",
       "      <td>W013</td>\n",
       "      <td>2021-05-20</td>\n",
       "      <td>2021-06-10</td>\n",
       "      <td>491.550000</td>\n",
       "      <td>9</td>\n",
       "      <td>1814400.0</td>\n",
       "      <td>21 days</td>\n",
       "      <td>54432000</td>\n",
       "    </tr>\n",
       "    <tr>\n",
       "      <th>5</th>\n",
       "      <td>NaN</td>\n",
       "      <td>W014</td>\n",
       "      <td>2021-05-14</td>\n",
       "      <td>2021-06-04</td>\n",
       "      <td>490.769500</td>\n",
       "      <td>9</td>\n",
       "      <td>1814400.0</td>\n",
       "      <td>21 days</td>\n",
       "      <td>54432000</td>\n",
       "    </tr>\n",
       "    <tr>\n",
       "      <th>6</th>\n",
       "      <td>NaN</td>\n",
       "      <td>W015</td>\n",
       "      <td>2021-05-25</td>\n",
       "      <td>2021-06-15</td>\n",
       "      <td>316.500000</td>\n",
       "      <td>0</td>\n",
       "      <td>1814400.0</td>\n",
       "      <td>21 days</td>\n",
       "      <td>54432000</td>\n",
       "    </tr>\n",
       "    <tr>\n",
       "      <th>7</th>\n",
       "      <td>NaN</td>\n",
       "      <td>W016</td>\n",
       "      <td>2021-05-14</td>\n",
       "      <td>2021-06-04</td>\n",
       "      <td>486.571333</td>\n",
       "      <td>9</td>\n",
       "      <td>1814400.0</td>\n",
       "      <td>21 days</td>\n",
       "      <td>54432000</td>\n",
       "    </tr>\n",
       "    <tr>\n",
       "      <th>8</th>\n",
       "      <td>NaN</td>\n",
       "      <td>W017</td>\n",
       "      <td>2021-05-28</td>\n",
       "      <td>2021-06-18</td>\n",
       "      <td>466.319167</td>\n",
       "      <td>4</td>\n",
       "      <td>1814400.0</td>\n",
       "      <td>21 days</td>\n",
       "      <td>54432000</td>\n",
       "    </tr>\n",
       "    <tr>\n",
       "      <th>9</th>\n",
       "      <td>NaN</td>\n",
       "      <td>W018</td>\n",
       "      <td>2021-05-20</td>\n",
       "      <td>2021-06-10</td>\n",
       "      <td>462.238167</td>\n",
       "      <td>7</td>\n",
       "      <td>1814400.0</td>\n",
       "      <td>21 days</td>\n",
       "      <td>54432000</td>\n",
       "    </tr>\n",
       "  </tbody>\n",
       "</table>\n",
       "</div>"
      ],
      "text/plain": [
       "   Unnamed: 0 wearable id activation date notified EOS  Hours Recorded  \\\n",
       "0         NaN        W001      2021-04-20   2021-05-11      102.555000   \n",
       "1         NaN        W007      2021-03-08   2021-03-29      463.413800   \n",
       "2         NaN        W010      2021-02-18   2021-03-03      293.589000   \n",
       "3         NaN        W011      2021-05-17   2021-06-07      332.164000   \n",
       "4         NaN        W013      2021-05-20   2021-06-10      491.550000   \n",
       "5         NaN        W014      2021-05-14   2021-06-04      490.769500   \n",
       "6         NaN        W015      2021-05-25   2021-06-15      316.500000   \n",
       "7         NaN        W016      2021-05-14   2021-06-04      486.571333   \n",
       "8         NaN        W017      2021-05-28   2021-06-18      466.319167   \n",
       "9         NaN        W018      2021-05-20   2021-06-10      462.238167   \n",
       "\n",
       "   Submitted Q  segundos_usando_devive dias_usando_devive  rows_to_split  \n",
       "0            9               1814400.0            21 days       54432000  \n",
       "1            7               1814400.0            21 days       54432000  \n",
       "2            5               1123200.0            13 days       33696000  \n",
       "3            7               1814400.0            21 days       54432000  \n",
       "4            9               1814400.0            21 days       54432000  \n",
       "5            9               1814400.0            21 days       54432000  \n",
       "6            0               1814400.0            21 days       54432000  \n",
       "7            9               1814400.0            21 days       54432000  \n",
       "8            4               1814400.0            21 days       54432000  \n",
       "9            7               1814400.0            21 days       54432000  "
      ]
     },
     "execution_count": 7,
     "metadata": {},
     "output_type": "execute_result"
    }
   ],
   "source": [
    "df"
   ]
  },
  {
   "cell_type": "code",
   "execution_count": 8,
   "id": "banner-constant",
   "metadata": {},
   "outputs": [],
   "source": [
    "df.to_csv('rows_to_split.csv', index = None)"
   ]
  },
  {
   "cell_type": "code",
   "execution_count": 57,
   "id": "hourly-killer",
   "metadata": {},
   "outputs": [],
   "source": [
    "inicio_uso = df['activation date'][9]"
   ]
  },
  {
   "cell_type": "code",
   "execution_count": 59,
   "id": "requested-notice",
   "metadata": {},
   "outputs": [
    {
     "data": {
      "text/plain": [
       "Timestamp('2021-05-20 00:00:00')"
      ]
     },
     "execution_count": 59,
     "metadata": {},
     "output_type": "execute_result"
    }
   ],
   "source": [
    "inicio_uso"
   ]
  },
  {
   "cell_type": "code",
   "execution_count": 60,
   "id": "expensive-laptop",
   "metadata": {},
   "outputs": [
    {
     "data": {
      "text/plain": [
       "datetime.datetime(2021, 4, 21, 18, 47)"
      ]
     },
     "execution_count": 60,
     "metadata": {},
     "output_type": "execute_result"
    }
   ],
   "source": [
    "fecha_activacion"
   ]
  },
  {
   "cell_type": "code",
   "execution_count": 73,
   "id": "resistant-alberta",
   "metadata": {},
   "outputs": [],
   "source": [
    "a = fecha_activacion\n",
    "b = inicio_uso\n",
    "c = b - a\n",
    "segundos = c.total_seconds()\n",
    "\n",
    "filas_split_inciales = int (segundos * 30)"
   ]
  },
  {
   "cell_type": "code",
   "execution_count": 74,
   "id": "valuable-milan",
   "metadata": {},
   "outputs": [
    {
     "data": {
      "text/plain": [
       "73139400"
      ]
     },
     "execution_count": 74,
     "metadata": {},
     "output_type": "execute_result"
    }
   ],
   "source": [
    "filas_split_inciales"
   ]
  },
  {
   "cell_type": "code",
   "execution_count": null,
   "id": "sublime-swift",
   "metadata": {},
   "outputs": [],
   "source": []
  },
  {
   "cell_type": "code",
   "execution_count": null,
   "id": "realistic-tennessee",
   "metadata": {},
   "outputs": [],
   "source": [
    "df['activation date']"
   ]
  },
  {
   "cell_type": "code",
   "execution_count": null,
   "id": "super-kingston",
   "metadata": {},
   "outputs": [],
   "source": []
  },
  {
   "cell_type": "code",
   "execution_count": null,
   "id": "typical-layer",
   "metadata": {},
   "outputs": [],
   "source": []
  },
  {
   "cell_type": "code",
   "execution_count": 75,
   "id": "forced-interpretation",
   "metadata": {},
   "outputs": [],
   "source": [
    "# Ya tengo spliteado a partir de donde contar y ahora solo debe quedarme con las primeras X filas correspondientes al período de uso"
   ]
  },
  {
   "cell_type": "code",
   "execution_count": null,
   "id": "sharing-power",
   "metadata": {},
   "outputs": [],
   "source": []
  },
  {
   "cell_type": "code",
   "execution_count": 98,
   "id": "sudden-coast",
   "metadata": {},
   "outputs": [],
   "source": [
    "inicio_uso = df['activation date'][5]"
   ]
  },
  {
   "cell_type": "code",
   "execution_count": 99,
   "id": "north-pitch",
   "metadata": {},
   "outputs": [],
   "source": [
    "finalizacion = df['notified EOS'][5]"
   ]
  },
  {
   "cell_type": "code",
   "execution_count": 100,
   "id": "charming-lloyd",
   "metadata": {},
   "outputs": [],
   "source": [
    "a = inicio_uso\n",
    "b = finalizacion\n",
    "c = b - a\n",
    "segundos = c.total_seconds()\n",
    "\n",
    "filas_split_inciales = int (segundos * 30)"
   ]
  },
  {
   "cell_type": "code",
   "execution_count": 101,
   "id": "aggregate-watts",
   "metadata": {},
   "outputs": [
    {
     "data": {
      "text/plain": [
       "1814400.0"
      ]
     },
     "execution_count": 101,
     "metadata": {},
     "output_type": "execute_result"
    }
   ],
   "source": [
    "segundos"
   ]
  },
  {
   "cell_type": "code",
   "execution_count": 38,
   "id": "laughing-rebecca",
   "metadata": {},
   "outputs": [],
   "source": [
    "df['i'] = df['activation date'].apply(str)"
   ]
  },
  {
   "cell_type": "code",
   "execution_count": 39,
   "id": "italian-instruction",
   "metadata": {},
   "outputs": [],
   "source": [
    "df['e'] = df['notified EOS'].apply(str)"
   ]
  },
  {
   "cell_type": "code",
   "execution_count": 54,
   "id": "continuous-territory",
   "metadata": {},
   "outputs": [
    {
     "data": {
      "text/html": [
       "<div>\n",
       "<style scoped>\n",
       "    .dataframe tbody tr th:only-of-type {\n",
       "        vertical-align: middle;\n",
       "    }\n",
       "\n",
       "    .dataframe tbody tr th {\n",
       "        vertical-align: top;\n",
       "    }\n",
       "\n",
       "    .dataframe thead th {\n",
       "        text-align: right;\n",
       "    }\n",
       "</style>\n",
       "<table border=\"1\" class=\"dataframe\">\n",
       "  <thead>\n",
       "    <tr style=\"text-align: right;\">\n",
       "      <th></th>\n",
       "      <th>Unnamed: 0</th>\n",
       "      <th>wearable id</th>\n",
       "      <th>activation date</th>\n",
       "      <th>notified EOS</th>\n",
       "      <th>Hours Recorded</th>\n",
       "      <th>Submitted Q</th>\n",
       "    </tr>\n",
       "  </thead>\n",
       "  <tbody>\n",
       "    <tr>\n",
       "      <th>0</th>\n",
       "      <td>NaN</td>\n",
       "      <td>W001</td>\n",
       "      <td>2021-04-20</td>\n",
       "      <td>2021-05-11</td>\n",
       "      <td>102.555000</td>\n",
       "      <td>9</td>\n",
       "    </tr>\n",
       "    <tr>\n",
       "      <th>1</th>\n",
       "      <td>NaN</td>\n",
       "      <td>W007</td>\n",
       "      <td>2021-03-08</td>\n",
       "      <td>2021-03-29</td>\n",
       "      <td>463.413800</td>\n",
       "      <td>7</td>\n",
       "    </tr>\n",
       "    <tr>\n",
       "      <th>2</th>\n",
       "      <td>NaN</td>\n",
       "      <td>W010</td>\n",
       "      <td>2021-02-18</td>\n",
       "      <td>2021-03-03</td>\n",
       "      <td>293.589000</td>\n",
       "      <td>5</td>\n",
       "    </tr>\n",
       "    <tr>\n",
       "      <th>3</th>\n",
       "      <td>NaN</td>\n",
       "      <td>W011</td>\n",
       "      <td>2021-05-17</td>\n",
       "      <td>2021-06-07</td>\n",
       "      <td>332.164000</td>\n",
       "      <td>7</td>\n",
       "    </tr>\n",
       "    <tr>\n",
       "      <th>4</th>\n",
       "      <td>NaN</td>\n",
       "      <td>W013</td>\n",
       "      <td>2021-05-20</td>\n",
       "      <td>2021-06-10</td>\n",
       "      <td>491.550000</td>\n",
       "      <td>9</td>\n",
       "    </tr>\n",
       "    <tr>\n",
       "      <th>5</th>\n",
       "      <td>NaN</td>\n",
       "      <td>W014</td>\n",
       "      <td>2021-05-14</td>\n",
       "      <td>2021-06-04</td>\n",
       "      <td>490.769500</td>\n",
       "      <td>9</td>\n",
       "    </tr>\n",
       "    <tr>\n",
       "      <th>6</th>\n",
       "      <td>NaN</td>\n",
       "      <td>W015</td>\n",
       "      <td>2021-05-25</td>\n",
       "      <td>2021-06-15</td>\n",
       "      <td>316.500000</td>\n",
       "      <td>0</td>\n",
       "    </tr>\n",
       "    <tr>\n",
       "      <th>7</th>\n",
       "      <td>NaN</td>\n",
       "      <td>W016</td>\n",
       "      <td>2021-05-14</td>\n",
       "      <td>2021-06-04</td>\n",
       "      <td>486.571333</td>\n",
       "      <td>9</td>\n",
       "    </tr>\n",
       "    <tr>\n",
       "      <th>8</th>\n",
       "      <td>NaN</td>\n",
       "      <td>W017</td>\n",
       "      <td>2021-05-28</td>\n",
       "      <td>2021-06-18</td>\n",
       "      <td>466.319167</td>\n",
       "      <td>4</td>\n",
       "    </tr>\n",
       "    <tr>\n",
       "      <th>9</th>\n",
       "      <td>NaN</td>\n",
       "      <td>W018</td>\n",
       "      <td>2021-05-20</td>\n",
       "      <td>2021-06-10</td>\n",
       "      <td>462.238167</td>\n",
       "      <td>7</td>\n",
       "    </tr>\n",
       "  </tbody>\n",
       "</table>\n",
       "</div>"
      ],
      "text/plain": [
       "   Unnamed: 0 wearable id activation date notified EOS  Hours Recorded  \\\n",
       "0         NaN        W001      2021-04-20   2021-05-11      102.555000   \n",
       "1         NaN        W007      2021-03-08   2021-03-29      463.413800   \n",
       "2         NaN        W010      2021-02-18   2021-03-03      293.589000   \n",
       "3         NaN        W011      2021-05-17   2021-06-07      332.164000   \n",
       "4         NaN        W013      2021-05-20   2021-06-10      491.550000   \n",
       "5         NaN        W014      2021-05-14   2021-06-04      490.769500   \n",
       "6         NaN        W015      2021-05-25   2021-06-15      316.500000   \n",
       "7         NaN        W016      2021-05-14   2021-06-04      486.571333   \n",
       "8         NaN        W017      2021-05-28   2021-06-18      466.319167   \n",
       "9         NaN        W018      2021-05-20   2021-06-10      462.238167   \n",
       "\n",
       "   Submitted Q  \n",
       "0            9  \n",
       "1            7  \n",
       "2            5  \n",
       "3            7  \n",
       "4            9  \n",
       "5            9  \n",
       "6            0  \n",
       "7            9  \n",
       "8            4  \n",
       "9            7  "
      ]
     },
     "execution_count": 54,
     "metadata": {},
     "output_type": "execute_result"
    }
   ],
   "source": [
    "df"
   ]
  },
  {
   "cell_type": "code",
   "execution_count": 23,
   "id": "primary-collection",
   "metadata": {},
   "outputs": [],
   "source": [
    "lista_inicio = df.i.to_list()"
   ]
  },
  {
   "cell_type": "code",
   "execution_count": 24,
   "id": "better-violin",
   "metadata": {},
   "outputs": [],
   "source": [
    "lista_fin = df.e.to_list()"
   ]
  },
  {
   "cell_type": "code",
   "execution_count": 25,
   "id": "informative-brook",
   "metadata": {},
   "outputs": [
    {
     "ename": "AttributeError",
     "evalue": "module 'datetime' has no attribute 'strptime'",
     "output_type": "error",
     "traceback": [
      "\u001b[0;31m---------------------------------------------------------------------------\u001b[0m",
      "\u001b[0;31mAttributeError\u001b[0m                            Traceback (most recent call last)",
      "\u001b[0;32m<ipython-input-25-943b487051cd>\u001b[0m in \u001b[0;36m<module>\u001b[0;34m\u001b[0m\n\u001b[1;32m      1\u001b[0m \u001b[0mfecha_inicio_estudio\u001b[0m \u001b[0;34m=\u001b[0m \u001b[0;34m[\u001b[0m\u001b[0;34m]\u001b[0m\u001b[0;34m\u001b[0m\u001b[0;34m\u001b[0m\u001b[0m\n\u001b[1;32m      2\u001b[0m \u001b[0;32mfor\u001b[0m \u001b[0mx\u001b[0m \u001b[0;32min\u001b[0m \u001b[0mlista_inicio\u001b[0m\u001b[0;34m:\u001b[0m\u001b[0;34m\u001b[0m\u001b[0;34m\u001b[0m\u001b[0m\n\u001b[0;32m----> 3\u001b[0;31m     \u001b[0mfecha_inicio_estudio\u001b[0m\u001b[0;34m.\u001b[0m\u001b[0mappend\u001b[0m\u001b[0;34m(\u001b[0m\u001b[0mdatetime\u001b[0m\u001b[0;34m.\u001b[0m\u001b[0mstrptime\u001b[0m\u001b[0;34m(\u001b[0m\u001b[0mx\u001b[0m\u001b[0;34m,\u001b[0m \u001b[0;34m'%Y-%m-%d %H:%M:%S'\u001b[0m\u001b[0;34m)\u001b[0m\u001b[0;34m)\u001b[0m\u001b[0;34m\u001b[0m\u001b[0;34m\u001b[0m\u001b[0m\n\u001b[0m\u001b[1;32m      4\u001b[0m \u001b[0;34m\u001b[0m\u001b[0m\n",
      "\u001b[0;31mAttributeError\u001b[0m: module 'datetime' has no attribute 'strptime'"
     ]
    }
   ],
   "source": [
    "fecha_inicio_estudio = []\n",
    "for x in lista_inicio:\n",
    "    fecha_inicio_estudio.append(datetime.strptime(x, '%Y-%m-%d %H:%M:%S'))\n",
    "    "
   ]
  },
  {
   "cell_type": "code",
   "execution_count": 94,
   "id": "hispanic-calibration",
   "metadata": {},
   "outputs": [],
   "source": [
    "fecha_fin_estudio = []\n",
    "for x in lista_fin:\n",
    "    fecha_fin_estudio.append(datetime.strptime(x, '%Y-%m-%d %H:%M:%S'))"
   ]
  },
  {
   "cell_type": "code",
   "execution_count": 95,
   "id": "parallel-density",
   "metadata": {},
   "outputs": [],
   "source": [
    "df['inicio_date'] = fecha_inicio_estudio"
   ]
  },
  {
   "cell_type": "code",
   "execution_count": 96,
   "id": "pleasant-tactics",
   "metadata": {},
   "outputs": [],
   "source": [
    "df['fin_date'] = fecha_fin_estudio"
   ]
  },
  {
   "cell_type": "code",
   "execution_count": 102,
   "id": "violent-momentum",
   "metadata": {},
   "outputs": [],
   "source": [
    "df_prepro = df[['Unnamed: 0', 'wearable id', 'activation date', 'notified EOS',\n",
    "       'Hours Recorded', 'Submitted Q','inicio_date', 'fin_date']]"
   ]
  },
  {
   "cell_type": "code",
   "execution_count": 104,
   "id": "aggressive-driving",
   "metadata": {},
   "outputs": [],
   "source": [
    "df_prepro.to_csv ('Data_datime_preprocess.csv')"
   ]
  },
  {
   "cell_type": "code",
   "execution_count": 62,
   "id": "floating-malawi",
   "metadata": {},
   "outputs": [],
   "source": [
    "fecha_inicio_estudio = datetime.strptime(i, '%Y-%m-%d %H:%M:%S')"
   ]
  },
  {
   "cell_type": "code",
   "execution_count": 63,
   "id": "constitutional-infrared",
   "metadata": {},
   "outputs": [],
   "source": [
    "fecha_final_estudio = datetime.strptime(e, '%Y-%m-%d %H:%M:%S')"
   ]
  },
  {
   "cell_type": "code",
   "execution_count": 66,
   "id": "original-updating",
   "metadata": {},
   "outputs": [],
   "source": [
    "duration = fecha_final_estudio - fecha_inicio_estudio\n",
    "duration_in_s = duration.total_seconds() "
   ]
  },
  {
   "cell_type": "code",
   "execution_count": 68,
   "id": "documented-blame",
   "metadata": {},
   "outputs": [
    {
     "data": {
      "text/plain": [
       "54432000.0"
      ]
     },
     "execution_count": 68,
     "metadata": {},
     "output_type": "execute_result"
    }
   ],
   "source": [
    "duration_in_s * 30"
   ]
  },
  {
   "cell_type": "code",
   "execution_count": null,
   "id": "random-penetration",
   "metadata": {},
   "outputs": [],
   "source": [
    "#a partir de la fecha de incio del estudio hay que quedarse con esas líneas"
   ]
  },
  {
   "cell_type": "code",
   "execution_count": 10,
   "id": "promising-dream",
   "metadata": {},
   "outputs": [
    {
     "ename": "TypeError",
     "evalue": "an integer is required (got type Timestamp)",
     "output_type": "error",
     "traceback": [
      "\u001b[0;31m---------------------------------------------------------------------------\u001b[0m",
      "\u001b[0;31mTypeError\u001b[0m                                 Traceback (most recent call last)",
      "\u001b[0;32m<ipython-input-10-cd73fa49927b>\u001b[0m in \u001b[0;36m<module>\u001b[0;34m\u001b[0m\n\u001b[1;32m      1\u001b[0m \u001b[0;32mfrom\u001b[0m \u001b[0mdatetime\u001b[0m \u001b[0;32mimport\u001b[0m \u001b[0mdatetime\u001b[0m\u001b[0;34m\u001b[0m\u001b[0;34m\u001b[0m\u001b[0m\n\u001b[1;32m      2\u001b[0m \u001b[0;34m\u001b[0m\u001b[0m\n\u001b[0;32m----> 3\u001b[0;31m \u001b[0mdt_object\u001b[0m \u001b[0;34m=\u001b[0m \u001b[0mdatetime\u001b[0m\u001b[0;34m.\u001b[0m\u001b[0mfromtimestamp\u001b[0m\u001b[0;34m(\u001b[0m\u001b[0mtimestamp\u001b[0m\u001b[0;34m)\u001b[0m\u001b[0;34m\u001b[0m\u001b[0;34m\u001b[0m\u001b[0m\n\u001b[0m\u001b[1;32m      4\u001b[0m \u001b[0;34m\u001b[0m\u001b[0m\n\u001b[1;32m      5\u001b[0m \u001b[0mprint\u001b[0m\u001b[0;34m(\u001b[0m\u001b[0;34m\"dt_object =\"\u001b[0m\u001b[0;34m,\u001b[0m \u001b[0mdt_object\u001b[0m\u001b[0;34m)\u001b[0m\u001b[0;34m\u001b[0m\u001b[0;34m\u001b[0m\u001b[0m\n",
      "\u001b[0;31mTypeError\u001b[0m: an integer is required (got type Timestamp)"
     ]
    }
   ],
   "source": [
    "from datetime import datetime\n",
    "\n",
    "dt_object = datetime.fromtimestamp(timestamp)\n",
    "\n",
    "print(\"dt_object =\", dt_object)\n",
    "print(\"type(dt_object) =\", type(dt_object))"
   ]
  },
  {
   "cell_type": "code",
   "execution_count": 24,
   "id": "unknown-terrorist",
   "metadata": {},
   "outputs": [
    {
     "name": "stdout",
     "output_type": "stream",
     "text": [
      "Defaulting to user installation because normal site-packages is not writeable\n",
      "Collecting openpyxl\n",
      "  Downloading openpyxl-3.0.7-py2.py3-none-any.whl (243 kB)\n",
      "\u001b[K     |████████████████████████████████| 243 kB 916 kB/s eta 0:00:01\n",
      "\u001b[?25hCollecting et-xmlfile\n",
      "  Downloading et_xmlfile-1.1.0-py3-none-any.whl (4.7 kB)\n",
      "Installing collected packages: et-xmlfile, openpyxl\n",
      "Successfully installed et-xmlfile-1.1.0 openpyxl-3.0.7\n",
      "\u001b[33mWARNING: You are using pip version 21.1.1; however, version 21.1.3 is available.\n",
      "You should consider upgrading via the '/usr/bin/python3 -m pip install --upgrade pip' command.\u001b[0m\n",
      "Note: you may need to restart the kernel to use updated packages.\n"
     ]
    }
   ],
   "source": [
    "pip install openpyxl"
   ]
  },
  {
   "cell_type": "code",
   "execution_count": 65,
   "id": "federal-finish",
   "metadata": {},
   "outputs": [
    {
     "name": "stdout",
     "output_type": "stream",
     "text": [
      "Defaulting to user installation because normal site-packages is not writeable\n",
      "Collecting xlrd\n",
      "  Downloading xlrd-2.0.1-py2.py3-none-any.whl (96 kB)\n",
      "\u001b[K     |████████████████████████████████| 96 kB 693 kB/s eta 0:00:01\n",
      "\u001b[?25hInstalling collected packages: xlrd\n",
      "Successfully installed xlrd-2.0.1\n",
      "\u001b[33mWARNING: You are using pip version 21.1.1; however, version 21.1.3 is available.\n",
      "You should consider upgrading via the '/usr/bin/python3 -m pip install --upgrade pip' command.\u001b[0m\n",
      "Note: you may need to restart the kernel to use updated packages.\n"
     ]
    }
   ],
   "source": [
    "pip install xlrd"
   ]
  },
  {
   "cell_type": "code",
   "execution_count": null,
   "id": "conventional-bleeding",
   "metadata": {},
   "outputs": [],
   "source": []
  }
 ],
 "metadata": {
  "kernelspec": {
   "display_name": "Python 3",
   "language": "python",
   "name": "python3"
  },
  "language_info": {
   "codemirror_mode": {
    "name": "ipython",
    "version": 3
   },
   "file_extension": ".py",
   "mimetype": "text/x-python",
   "name": "python",
   "nbconvert_exporter": "python",
   "pygments_lexer": "ipython3",
   "version": "3.8.10"
  }
 },
 "nbformat": 4,
 "nbformat_minor": 5
}
