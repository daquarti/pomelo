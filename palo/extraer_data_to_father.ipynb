{
 "cells": [
  {
   "cell_type": "code",
   "execution_count": 2,
   "id": "ranging-evanescence",
   "metadata": {},
   "outputs": [],
   "source": [
    "import pandas as pd"
   ]
  },
  {
   "cell_type": "code",
   "execution_count": 3,
   "id": "loose-debut",
   "metadata": {},
   "outputs": [
    {
     "name": "stdout",
     "output_type": "stream",
     "text": [
      "\u001b[33mWARNING: Value for scheme.platlib does not match. Please report this to <https://github.com/pypa/pip/issues/10151>\n",
      "distutils: /usr/local/lib/python3.8/dist-packages\n",
      "sysconfig: /usr/lib/python3.8/site-packages\u001b[0m\n",
      "\u001b[33mWARNING: Value for scheme.purelib does not match. Please report this to <https://github.com/pypa/pip/issues/10151>\n",
      "distutils: /usr/local/lib/python3.8/dist-packages\n",
      "sysconfig: /usr/lib/python3.8/site-packages\u001b[0m\n",
      "\u001b[33mWARNING: Value for scheme.headers does not match. Please report this to <https://github.com/pypa/pip/issues/10151>\n",
      "distutils: /usr/local/include/python3.8/UNKNOWN\n",
      "sysconfig: /usr/include/python3.8/UNKNOWN\u001b[0m\n",
      "\u001b[33mWARNING: Value for scheme.scripts does not match. Please report this to <https://github.com/pypa/pip/issues/10151>\n",
      "distutils: /usr/local/bin\n",
      "sysconfig: /usr/bin\u001b[0m\n",
      "\u001b[33mWARNING: Value for scheme.data does not match. Please report this to <https://github.com/pypa/pip/issues/10151>\n",
      "distutils: /usr/local\n",
      "sysconfig: /usr\u001b[0m\n",
      "\u001b[33mWARNING: Additional context:\n",
      "user = False\n",
      "home = None\n",
      "root = None\n",
      "prefix = None\u001b[0m\n",
      "Defaulting to user installation because normal site-packages is not writeable\n",
      "Requirement already satisfied: vaex in /home/daqua/.local/lib/python3.8/site-packages (4.3.0)\n",
      "Requirement already satisfied: vaex-jupyter<0.7,>=0.6.0 in /home/daqua/.local/lib/python3.8/site-packages (from vaex) (0.6.0)\n",
      "Requirement already satisfied: vaex-core<5,>=4.3.0-post.1 in /home/daqua/.local/lib/python3.8/site-packages (from vaex) (4.3.0.post1)\n",
      "Requirement already satisfied: vaex-astro<0.9,>=0.8.2 in /home/daqua/.local/lib/python3.8/site-packages (from vaex) (0.8.2)\n",
      "Requirement already satisfied: vaex-server<0.6,>=0.5.0 in /home/daqua/.local/lib/python3.8/site-packages (from vaex) (0.5.0)\n",
      "Requirement already satisfied: vaex-ml<0.13,>=0.12.0 in /home/daqua/.local/lib/python3.8/site-packages (from vaex) (0.12.0)\n",
      "Requirement already satisfied: vaex-hdf5<0.9,>=0.8.0 in /home/daqua/.local/lib/python3.8/site-packages (from vaex) (0.8.0)\n",
      "Requirement already satisfied: vaex-viz<0.6,>=0.5.0 in /home/daqua/.local/lib/python3.8/site-packages (from vaex) (0.5.0)\n",
      "Requirement already satisfied: astropy in /home/daqua/.local/lib/python3.8/site-packages (from vaex-astro<0.9,>=0.8.2->vaex) (4.2.1)\n",
      "Requirement already satisfied: cloudpickle in /home/daqua/.local/lib/python3.8/site-packages (from vaex-core<5,>=4.3.0-post.1->vaex) (1.6.0)\n",
      "Requirement already satisfied: progressbar2 in /home/daqua/.local/lib/python3.8/site-packages (from vaex-core<5,>=4.3.0-post.1->vaex) (3.53.1)\n",
      "Requirement already satisfied: requests in /usr/lib/python3/dist-packages (from vaex-core<5,>=4.3.0-post.1->vaex) (2.22.0)\n",
      "Requirement already satisfied: nest-asyncio>=1.3.3 in /home/daqua/.local/lib/python3.8/site-packages (from vaex-core<5,>=4.3.0-post.1->vaex) (1.5.1)\n",
      "Requirement already satisfied: tabulate>=0.8.3 in /home/daqua/.local/lib/python3.8/site-packages (from vaex-core<5,>=4.3.0-post.1->vaex) (0.8.9)\n",
      "Requirement already satisfied: frozendict in /home/daqua/.local/lib/python3.8/site-packages (from vaex-core<5,>=4.3.0-post.1->vaex) (2.0.3)\n",
      "Requirement already satisfied: pyarrow>=3.0 in /home/daqua/.local/lib/python3.8/site-packages (from vaex-core<5,>=4.3.0-post.1->vaex) (4.0.1)\n",
      "Requirement already satisfied: blake3 in /home/daqua/.local/lib/python3.8/site-packages (from vaex-core<5,>=4.3.0-post.1->vaex) (0.1.8)\n",
      "Requirement already satisfied: dask in /home/daqua/.local/lib/python3.8/site-packages (from vaex-core<5,>=4.3.0-post.1->vaex) (2021.4.1)\n",
      "Requirement already satisfied: future>=0.15.2 in /usr/lib/python3/dist-packages (from vaex-core<5,>=4.3.0-post.1->vaex) (0.18.2)\n",
      "Requirement already satisfied: pyyaml in /usr/lib/python3/dist-packages (from vaex-core<5,>=4.3.0-post.1->vaex) (5.3.1)\n",
      "Requirement already satisfied: pandas in /home/daqua/.local/lib/python3.8/site-packages (from vaex-core<5,>=4.3.0-post.1->vaex) (1.2.3)\n",
      "Requirement already satisfied: numpy>=1.16 in /home/daqua/.local/lib/python3.8/site-packages (from vaex-core<5,>=4.3.0-post.1->vaex) (1.20.1)\n",
      "Requirement already satisfied: six in /usr/lib/python3/dist-packages (from vaex-core<5,>=4.3.0-post.1->vaex) (1.14.0)\n",
      "Requirement already satisfied: aplus in /home/daqua/.local/lib/python3.8/site-packages (from vaex-core<5,>=4.3.0-post.1->vaex) (0.11.0)\n",
      "Requirement already satisfied: h5py>=2.9 in /home/daqua/.local/lib/python3.8/site-packages (from vaex-hdf5<0.9,>=0.8.0->vaex) (3.3.0)\n",
      "Requirement already satisfied: ipyleaflet in /home/daqua/.local/lib/python3.8/site-packages (from vaex-jupyter<0.7,>=0.6.0->vaex) (0.14.0)\n",
      "Requirement already satisfied: ipyvolume>=0.4 in /home/daqua/.local/lib/python3.8/site-packages (from vaex-jupyter<0.7,>=0.6.0->vaex) (0.5.2)\n",
      "Requirement already satisfied: ipympl in /home/daqua/.local/lib/python3.8/site-packages (from vaex-jupyter<0.7,>=0.6.0->vaex) (0.7.0)\n",
      "Requirement already satisfied: ipyvuetify<2,>=1.2.2 in /home/daqua/.local/lib/python3.8/site-packages (from vaex-jupyter<0.7,>=0.6.0->vaex) (1.8.0)\n",
      "Requirement already satisfied: bqplot>=0.10.1 in /home/daqua/.local/lib/python3.8/site-packages (from vaex-jupyter<0.7,>=0.6.0->vaex) (0.12.30)\n",
      "Requirement already satisfied: xarray in /home/daqua/.local/lib/python3.8/site-packages (from vaex-jupyter<0.7,>=0.6.0->vaex) (0.18.2)\n",
      "Requirement already satisfied: traittypes>=0.0.6 in /home/daqua/.local/lib/python3.8/site-packages (from bqplot>=0.10.1->vaex-jupyter<0.7,>=0.6.0->vaex) (0.2.1)\n",
      "Requirement already satisfied: ipywidgets>=7.5.0 in /home/daqua/.local/lib/python3.8/site-packages (from bqplot>=0.10.1->vaex-jupyter<0.7,>=0.6.0->vaex) (7.6.3)\n",
      "Requirement already satisfied: traitlets>=4.3.0 in /home/daqua/.local/lib/python3.8/site-packages (from bqplot>=0.10.1->vaex-jupyter<0.7,>=0.6.0->vaex) (5.0.5)\n",
      "Requirement already satisfied: ipywebrtc in /home/daqua/.local/lib/python3.8/site-packages (from ipyvolume>=0.4->vaex-jupyter<0.7,>=0.6.0->vaex) (0.6.0)\n",
      "Requirement already satisfied: Pillow in /usr/lib/python3/dist-packages (from ipyvolume>=0.4->vaex-jupyter<0.7,>=0.6.0->vaex) (7.0.0)\n",
      "Requirement already satisfied: pythreejs>=1.0.0 in /home/daqua/.local/lib/python3.8/site-packages (from ipyvolume>=0.4->vaex-jupyter<0.7,>=0.6.0->vaex) (2.3.0)\n",
      "Requirement already satisfied: ipyvue<2,>=1.5 in /home/daqua/.local/lib/python3.8/site-packages (from ipyvuetify<2,>=1.2.2->vaex-jupyter<0.7,>=0.6.0->vaex) (1.5.0)\n",
      "Requirement already satisfied: jupyterlab-widgets>=1.0.0 in /home/daqua/.local/lib/python3.8/site-packages (from ipywidgets>=7.5.0->bqplot>=0.10.1->vaex-jupyter<0.7,>=0.6.0->vaex) (1.0.0)\n",
      "Requirement already satisfied: ipykernel>=4.5.1 in /home/daqua/.local/lib/python3.8/site-packages (from ipywidgets>=7.5.0->bqplot>=0.10.1->vaex-jupyter<0.7,>=0.6.0->vaex) (5.5.0)\n",
      "Requirement already satisfied: nbformat>=4.2.0 in /home/daqua/.local/lib/python3.8/site-packages (from ipywidgets>=7.5.0->bqplot>=0.10.1->vaex-jupyter<0.7,>=0.6.0->vaex) (5.1.2)\n",
      "Requirement already satisfied: ipython>=4.0.0 in /home/daqua/.local/lib/python3.8/site-packages (from ipywidgets>=7.5.0->bqplot>=0.10.1->vaex-jupyter<0.7,>=0.6.0->vaex) (7.21.0)\n",
      "Requirement already satisfied: widgetsnbextension~=3.5.0 in /home/daqua/.local/lib/python3.8/site-packages (from ipywidgets>=7.5.0->bqplot>=0.10.1->vaex-jupyter<0.7,>=0.6.0->vaex) (3.5.1)\n",
      "Requirement already satisfied: tornado>=4.2 in /home/daqua/.local/lib/python3.8/site-packages (from ipykernel>=4.5.1->ipywidgets>=7.5.0->bqplot>=0.10.1->vaex-jupyter<0.7,>=0.6.0->vaex) (6.1)\n",
      "Requirement already satisfied: jupyter-client in /home/daqua/.local/lib/python3.8/site-packages (from ipykernel>=4.5.1->ipywidgets>=7.5.0->bqplot>=0.10.1->vaex-jupyter<0.7,>=0.6.0->vaex) (6.1.12)\n",
      "Requirement already satisfied: pickleshare in /home/daqua/.local/lib/python3.8/site-packages (from ipython>=4.0.0->ipywidgets>=7.5.0->bqplot>=0.10.1->vaex-jupyter<0.7,>=0.6.0->vaex) (0.7.5)\n",
      "Requirement already satisfied: setuptools>=18.5 in /usr/lib/python3/dist-packages (from ipython>=4.0.0->ipywidgets>=7.5.0->bqplot>=0.10.1->vaex-jupyter<0.7,>=0.6.0->vaex) (45.2.0)\n",
      "Requirement already satisfied: backcall in /home/daqua/.local/lib/python3.8/site-packages (from ipython>=4.0.0->ipywidgets>=7.5.0->bqplot>=0.10.1->vaex-jupyter<0.7,>=0.6.0->vaex) (0.2.0)\n",
      "Requirement already satisfied: pexpect>4.3 in /usr/lib/python3/dist-packages (from ipython>=4.0.0->ipywidgets>=7.5.0->bqplot>=0.10.1->vaex-jupyter<0.7,>=0.6.0->vaex) (4.6.0)\n",
      "Requirement already satisfied: prompt-toolkit!=3.0.0,!=3.0.1,<3.1.0,>=2.0.0 in /home/daqua/.local/lib/python3.8/site-packages (from ipython>=4.0.0->ipywidgets>=7.5.0->bqplot>=0.10.1->vaex-jupyter<0.7,>=0.6.0->vaex) (3.0.18)\n",
      "Requirement already satisfied: decorator in /home/daqua/.local/lib/python3.8/site-packages (from ipython>=4.0.0->ipywidgets>=7.5.0->bqplot>=0.10.1->vaex-jupyter<0.7,>=0.6.0->vaex) (4.4.2)\n",
      "Requirement already satisfied: jedi>=0.16 in /home/daqua/.local/lib/python3.8/site-packages (from ipython>=4.0.0->ipywidgets>=7.5.0->bqplot>=0.10.1->vaex-jupyter<0.7,>=0.6.0->vaex) (0.18.0)\n",
      "Requirement already satisfied: pygments in /home/daqua/.local/lib/python3.8/site-packages (from ipython>=4.0.0->ipywidgets>=7.5.0->bqplot>=0.10.1->vaex-jupyter<0.7,>=0.6.0->vaex) (2.8.1)\n",
      "Requirement already satisfied: parso<0.9.0,>=0.8.0 in /home/daqua/.local/lib/python3.8/site-packages (from jedi>=0.16->ipython>=4.0.0->ipywidgets>=7.5.0->bqplot>=0.10.1->vaex-jupyter<0.7,>=0.6.0->vaex) (0.8.1)\n",
      "Requirement already satisfied: jupyter-core in /home/daqua/.local/lib/python3.8/site-packages (from nbformat>=4.2.0->ipywidgets>=7.5.0->bqplot>=0.10.1->vaex-jupyter<0.7,>=0.6.0->vaex) (4.7.1)\n",
      "Requirement already satisfied: jsonschema!=2.5.0,>=2.4 in /home/daqua/.local/lib/python3.8/site-packages (from nbformat>=4.2.0->ipywidgets>=7.5.0->bqplot>=0.10.1->vaex-jupyter<0.7,>=0.6.0->vaex) (3.2.0)\n",
      "Requirement already satisfied: ipython-genutils in /home/daqua/.local/lib/python3.8/site-packages (from nbformat>=4.2.0->ipywidgets>=7.5.0->bqplot>=0.10.1->vaex-jupyter<0.7,>=0.6.0->vaex) (0.2.0)\n",
      "Requirement already satisfied: pyrsistent>=0.14.0 in /home/daqua/.local/lib/python3.8/site-packages (from jsonschema!=2.5.0,>=2.4->nbformat>=4.2.0->ipywidgets>=7.5.0->bqplot>=0.10.1->vaex-jupyter<0.7,>=0.6.0->vaex) (0.17.3)\n",
      "Requirement already satisfied: attrs>=17.4.0 in /home/daqua/.local/lib/python3.8/site-packages (from jsonschema!=2.5.0,>=2.4->nbformat>=4.2.0->ipywidgets>=7.5.0->bqplot>=0.10.1->vaex-jupyter<0.7,>=0.6.0->vaex) (20.3.0)\n",
      "Requirement already satisfied: wcwidth in /home/daqua/.local/lib/python3.8/site-packages (from prompt-toolkit!=3.0.0,!=3.0.1,<3.1.0,>=2.0.0->ipython>=4.0.0->ipywidgets>=7.5.0->bqplot>=0.10.1->vaex-jupyter<0.7,>=0.6.0->vaex) (0.2.5)\n",
      "Requirement already satisfied: ipydatawidgets>=1.1.1 in /home/daqua/.local/lib/python3.8/site-packages (from pythreejs>=1.0.0->ipyvolume>=0.4->vaex-jupyter<0.7,>=0.6.0->vaex) (4.2.0)\n",
      "Requirement already satisfied: numba in /home/daqua/.local/lib/python3.8/site-packages (from vaex-ml<0.13,>=0.12.0->vaex) (0.53.1)\n",
      "Requirement already satisfied: jinja2 in /home/daqua/.local/lib/python3.8/site-packages (from vaex-ml<0.13,>=0.12.0->vaex) (2.11.3)\n",
      "Requirement already satisfied: cachetools in /home/daqua/.local/lib/python3.8/site-packages (from vaex-server<0.6,>=0.5.0->vaex) (4.2.2)\n",
      "Requirement already satisfied: matplotlib>=1.3.1 in /home/daqua/.local/lib/python3.8/site-packages (from vaex-viz<0.6,>=0.5.0->vaex) (3.4.2)\n",
      "Requirement already satisfied: python-dateutil>=2.7 in /usr/lib/python3/dist-packages (from matplotlib>=1.3.1->vaex-viz<0.6,>=0.5.0->vaex) (2.7.3)\n",
      "Requirement already satisfied: kiwisolver>=1.0.1 in /home/daqua/.local/lib/python3.8/site-packages (from matplotlib>=1.3.1->vaex-viz<0.6,>=0.5.0->vaex) (1.3.1)\n",
      "Requirement already satisfied: cycler>=0.10 in /home/daqua/.local/lib/python3.8/site-packages (from matplotlib>=1.3.1->vaex-viz<0.6,>=0.5.0->vaex) (0.10.0)\n",
      "Requirement already satisfied: pyparsing>=2.2.1 in /home/daqua/.local/lib/python3.8/site-packages (from matplotlib>=1.3.1->vaex-viz<0.6,>=0.5.0->vaex) (2.4.7)\n",
      "Requirement already satisfied: notebook>=4.4.1 in /home/daqua/.local/lib/python3.8/site-packages (from widgetsnbextension~=3.5.0->ipywidgets>=7.5.0->bqplot>=0.10.1->vaex-jupyter<0.7,>=0.6.0->vaex) (6.3.0)\n",
      "Requirement already satisfied: prometheus-client in /home/daqua/.local/lib/python3.8/site-packages (from notebook>=4.4.1->widgetsnbextension~=3.5.0->ipywidgets>=7.5.0->bqplot>=0.10.1->vaex-jupyter<0.7,>=0.6.0->vaex) (0.9.0)\n",
      "Requirement already satisfied: terminado>=0.8.3 in /home/daqua/.local/lib/python3.8/site-packages (from notebook>=4.4.1->widgetsnbextension~=3.5.0->ipywidgets>=7.5.0->bqplot>=0.10.1->vaex-jupyter<0.7,>=0.6.0->vaex) (0.9.3)\n",
      "Requirement already satisfied: Send2Trash>=1.5.0 in /home/daqua/.local/lib/python3.8/site-packages (from notebook>=4.4.1->widgetsnbextension~=3.5.0->ipywidgets>=7.5.0->bqplot>=0.10.1->vaex-jupyter<0.7,>=0.6.0->vaex) (1.5.0)\n",
      "Requirement already satisfied: argon2-cffi in /home/daqua/.local/lib/python3.8/site-packages (from notebook>=4.4.1->widgetsnbextension~=3.5.0->ipywidgets>=7.5.0->bqplot>=0.10.1->vaex-jupyter<0.7,>=0.6.0->vaex) (20.1.0)\n",
      "Requirement already satisfied: nbconvert in /home/daqua/.local/lib/python3.8/site-packages (from notebook>=4.4.1->widgetsnbextension~=3.5.0->ipywidgets>=7.5.0->bqplot>=0.10.1->vaex-jupyter<0.7,>=0.6.0->vaex) (6.0.7)\n",
      "Requirement already satisfied: pyzmq>=17 in /home/daqua/.local/lib/python3.8/site-packages (from notebook>=4.4.1->widgetsnbextension~=3.5.0->ipywidgets>=7.5.0->bqplot>=0.10.1->vaex-jupyter<0.7,>=0.6.0->vaex) (22.0.3)\n",
      "Requirement already satisfied: ptyprocess in /home/daqua/.local/lib/python3.8/site-packages (from terminado>=0.8.3->notebook>=4.4.1->widgetsnbextension~=3.5.0->ipywidgets>=7.5.0->bqplot>=0.10.1->vaex-jupyter<0.7,>=0.6.0->vaex) (0.7.0)\n",
      "Requirement already satisfied: cffi>=1.0.0 in /home/daqua/.local/lib/python3.8/site-packages (from argon2-cffi->notebook>=4.4.1->widgetsnbextension~=3.5.0->ipywidgets>=7.5.0->bqplot>=0.10.1->vaex-jupyter<0.7,>=0.6.0->vaex) (1.14.5)\n",
      "Requirement already satisfied: pycparser in /home/daqua/.local/lib/python3.8/site-packages (from cffi>=1.0.0->argon2-cffi->notebook>=4.4.1->widgetsnbextension~=3.5.0->ipywidgets>=7.5.0->bqplot>=0.10.1->vaex-jupyter<0.7,>=0.6.0->vaex) (2.20)\n",
      "Requirement already satisfied: pyerfa in /home/daqua/.local/lib/python3.8/site-packages (from astropy->vaex-astro<0.9,>=0.8.2->vaex) (2.0.0)\n",
      "Requirement already satisfied: fsspec>=0.6.0 in /home/daqua/.local/lib/python3.8/site-packages (from dask->vaex-core<5,>=4.3.0-post.1->vaex) (2021.4.0)\n",
      "Requirement already satisfied: partd>=0.3.10 in /home/daqua/.local/lib/python3.8/site-packages (from dask->vaex-core<5,>=4.3.0-post.1->vaex) (1.2.0)\n",
      "Requirement already satisfied: toolz>=0.8.2 in /home/daqua/.local/lib/python3.8/site-packages (from dask->vaex-core<5,>=4.3.0-post.1->vaex) (0.11.1)\n",
      "Requirement already satisfied: locket in /home/daqua/.local/lib/python3.8/site-packages (from partd>=0.3.10->dask->vaex-core<5,>=4.3.0-post.1->vaex) (0.2.1)\n",
      "Requirement already satisfied: MarkupSafe>=0.23 in /usr/lib/python3/dist-packages (from jinja2->vaex-ml<0.13,>=0.12.0->vaex) (1.1.0)\n",
      "Requirement already satisfied: nbclient<0.6.0,>=0.5.0 in /home/daqua/.local/lib/python3.8/site-packages (from nbconvert->notebook>=4.4.1->widgetsnbextension~=3.5.0->ipywidgets>=7.5.0->bqplot>=0.10.1->vaex-jupyter<0.7,>=0.6.0->vaex) (0.5.3)\n",
      "Requirement already satisfied: entrypoints>=0.2.2 in /usr/lib/python3/dist-packages (from nbconvert->notebook>=4.4.1->widgetsnbextension~=3.5.0->ipywidgets>=7.5.0->bqplot>=0.10.1->vaex-jupyter<0.7,>=0.6.0->vaex) (0.3)\n",
      "Requirement already satisfied: bleach in /home/daqua/.local/lib/python3.8/site-packages (from nbconvert->notebook>=4.4.1->widgetsnbextension~=3.5.0->ipywidgets>=7.5.0->bqplot>=0.10.1->vaex-jupyter<0.7,>=0.6.0->vaex) (3.3.0)\n",
      "Requirement already satisfied: jupyterlab-pygments in /home/daqua/.local/lib/python3.8/site-packages (from nbconvert->notebook>=4.4.1->widgetsnbextension~=3.5.0->ipywidgets>=7.5.0->bqplot>=0.10.1->vaex-jupyter<0.7,>=0.6.0->vaex) (0.1.2)\n",
      "Requirement already satisfied: pandocfilters>=1.4.1 in /home/daqua/.local/lib/python3.8/site-packages (from nbconvert->notebook>=4.4.1->widgetsnbextension~=3.5.0->ipywidgets>=7.5.0->bqplot>=0.10.1->vaex-jupyter<0.7,>=0.6.0->vaex) (1.4.3)\n",
      "Requirement already satisfied: defusedxml in /home/daqua/.local/lib/python3.8/site-packages (from nbconvert->notebook>=4.4.1->widgetsnbextension~=3.5.0->ipywidgets>=7.5.0->bqplot>=0.10.1->vaex-jupyter<0.7,>=0.6.0->vaex) (0.7.1)\n",
      "Requirement already satisfied: testpath in /home/daqua/.local/lib/python3.8/site-packages (from nbconvert->notebook>=4.4.1->widgetsnbextension~=3.5.0->ipywidgets>=7.5.0->bqplot>=0.10.1->vaex-jupyter<0.7,>=0.6.0->vaex) (0.4.4)\n",
      "Requirement already satisfied: mistune<2,>=0.8.1 in /home/daqua/.local/lib/python3.8/site-packages (from nbconvert->notebook>=4.4.1->widgetsnbextension~=3.5.0->ipywidgets>=7.5.0->bqplot>=0.10.1->vaex-jupyter<0.7,>=0.6.0->vaex) (0.8.4)\n",
      "Requirement already satisfied: async-generator in /home/daqua/.local/lib/python3.8/site-packages (from nbclient<0.6.0,>=0.5.0->nbconvert->notebook>=4.4.1->widgetsnbextension~=3.5.0->ipywidgets>=7.5.0->bqplot>=0.10.1->vaex-jupyter<0.7,>=0.6.0->vaex) (1.10)\n",
      "Requirement already satisfied: webencodings in /home/daqua/.local/lib/python3.8/site-packages (from bleach->nbconvert->notebook>=4.4.1->widgetsnbextension~=3.5.0->ipywidgets>=7.5.0->bqplot>=0.10.1->vaex-jupyter<0.7,>=0.6.0->vaex) (0.5.1)\n",
      "Requirement already satisfied: packaging in /home/daqua/.local/lib/python3.8/site-packages (from bleach->nbconvert->notebook>=4.4.1->widgetsnbextension~=3.5.0->ipywidgets>=7.5.0->bqplot>=0.10.1->vaex-jupyter<0.7,>=0.6.0->vaex) (20.9)\n",
      "Requirement already satisfied: llvmlite<0.37,>=0.36.0rc1 in /home/daqua/.local/lib/python3.8/site-packages (from numba->vaex-ml<0.13,>=0.12.0->vaex) (0.36.0)\n",
      "Requirement already satisfied: pytz>=2017.3 in /usr/lib/python3/dist-packages (from pandas->vaex-core<5,>=4.3.0-post.1->vaex) (2019.3)\n",
      "Requirement already satisfied: python-utils>=2.3.0 in /home/daqua/.local/lib/python3.8/site-packages (from progressbar2->vaex-core<5,>=4.3.0-post.1->vaex) (2.5.6)\n",
      "\u001b[33mWARNING: You are using pip version 21.2.1; however, version 21.2.2 is available.\n",
      "You should consider upgrading via the '/usr/bin/python3 -m pip install --upgrade pip' command.\u001b[0m\n"
     ]
    }
   ],
   "source": [
    "!pip install vaex"
   ]
  },
  {
   "cell_type": "code",
   "execution_count": 4,
   "id": "timely-portsmouth",
   "metadata": {},
   "outputs": [],
   "source": [
    "df = pd.read_csv ('1.csv', skiprows=10, chunksize=100000)"
   ]
  },
  {
   "cell_type": "code",
   "execution_count": 5,
   "id": "common-conclusion",
   "metadata": {},
   "outputs": [
    {
     "data": {
      "text/plain": [
       "<pandas.io.parsers.TextFileReader at 0x7fd158667340>"
      ]
     },
     "execution_count": 5,
     "metadata": {},
     "output_type": "execute_result"
    }
   ],
   "source": [
    "df"
   ]
  },
  {
   "cell_type": "code",
   "execution_count": 2,
   "id": "compliant-socket",
   "metadata": {},
   "outputs": [],
   "source": [
    "import vaex\n",
    "import numpy as np\n",
    "import pandas as pd"
   ]
  },
  {
   "cell_type": "code",
   "execution_count": 3,
   "id": "organizational-anatomy",
   "metadata": {},
   "outputs": [
    {
     "name": "stdout",
     "output_type": "stream",
     "text": [
      "The history saving thread hit an unexpected error (OperationalError('database or disk is full')).History will not be written to the database.\n"
     ]
    }
   ],
   "source": [
    "df = vaex.from_csv('1.csv', skiprows=10, convert=True, chunk_size=100_000)"
   ]
  },
  {
   "cell_type": "code",
   "execution_count": 4,
   "id": "general-compatibility",
   "metadata": {},
   "outputs": [],
   "source": [
    "inicio = 73139400"
   ]
  },
  {
   "cell_type": "code",
   "execution_count": 5,
   "id": "american-prince",
   "metadata": {},
   "outputs": [],
   "source": [
    "final = 54432000"
   ]
  },
  {
   "cell_type": "code",
   "execution_count": 15,
   "id": "based-vision",
   "metadata": {},
   "outputs": [],
   "source": [
    "total = inicio + final"
   ]
  },
  {
   "cell_type": "code",
   "execution_count": 18,
   "id": "technological-rouge",
   "metadata": {},
   "outputs": [],
   "source": [
    "df2 = df[inicio:total]"
   ]
  },
  {
   "cell_type": "code",
   "execution_count": 1,
   "id": "competent-raleigh",
   "metadata": {},
   "outputs": [
    {
     "ename": "NameError",
     "evalue": "name 'df2' is not defined",
     "output_type": "error",
     "traceback": [
      "\u001b[0;31m---------------------------------------------------------------------------\u001b[0m",
      "\u001b[0;31mNameError\u001b[0m                                 Traceback (most recent call last)",
      "\u001b[0;32m<ipython-input-1-2068723f1203>\u001b[0m in \u001b[0;36m<module>\u001b[0;34m\u001b[0m\n\u001b[0;32m----> 1\u001b[0;31m \u001b[0mdf2\u001b[0m\u001b[0;34m\u001b[0m\u001b[0;34m\u001b[0m\u001b[0m\n\u001b[0m",
      "\u001b[0;31mNameError\u001b[0m: name 'df2' is not defined"
     ]
    }
   ],
   "source": [
    "df2"
   ]
  },
  {
   "cell_type": "code",
   "execution_count": null,
   "id": "victorian-taste",
   "metadata": {},
   "outputs": [
    {
     "name": "stdout",
     "output_type": "stream",
     "text": [
      "[###############-------------------------] 37.83% estimated time:     3.67s =  0.1m =  0.0h  "
     ]
    }
   ],
   "source": [
    "df2.export_hdf5(\"w18_clean.hdf5\", progress=True)\n"
   ]
  },
  {
   "cell_type": "code",
   "execution_count": null,
   "id": "convinced-essay",
   "metadata": {},
   "outputs": [],
   "source": [
    "((142993800/30)/3600)/24"
   ]
  },
  {
   "cell_type": "code",
   "execution_count": null,
   "id": "commercial-psychiatry",
   "metadata": {},
   "outputs": [],
   "source": [
    "462/24"
   ]
  },
  {
   "cell_type": "code",
   "execution_count": null,
   "id": "animal-fundamental",
   "metadata": {},
   "outputs": [],
   "source": [
    "55-19"
   ]
  },
  {
   "cell_type": "code",
   "execution_count": null,
   "id": "differential-screw",
   "metadata": {},
   "outputs": [],
   "source": [
    "from datetime import date\n",
    "excel_date = date.fromisoformat('2021-05-20')\n",
    "raw_date = date.fromisoformat('2021-04-21')"
   ]
  },
  {
   "cell_type": "code",
   "execution_count": null,
   "id": "sapphire-mixture",
   "metadata": {},
   "outputs": [],
   "source": [
    "excel_date - raw_date"
   ]
  },
  {
   "cell_type": "code",
   "execution_count": null,
   "id": "blank-gentleman",
   "metadata": {},
   "outputs": [],
   "source": [
    "a = df['Accelerometer X'].values\n",
    "l_x = np.mean(a.reshape(-1, 300), axis=1)\n",
    "print (len(l_x))\n",
    "#new_series_x = pd.Series(l)"
   ]
  },
  {
   "cell_type": "code",
   "execution_count": null,
   "id": "polish-enlargement",
   "metadata": {},
   "outputs": [],
   "source": [
    "a = df['Accelerometer Y'].values\n",
    "l_y = np.mean(a.reshape(-1, 300), axis=1)\n",
    "print (len(l_y))\n",
    "#new_series_y = pd.Series(l)"
   ]
  },
  {
   "cell_type": "code",
   "execution_count": null,
   "id": "improved-mapping",
   "metadata": {},
   "outputs": [],
   "source": [
    "a = df['Accelerometer Z'].values\n",
    "l_z = np.mean(a.reshape(-1, 300), axis=1)\n",
    "print (len(l_z))\n",
    "#new_series_z = pd.Series(l)"
   ]
  },
  {
   "cell_type": "code",
   "execution_count": null,
   "id": "exotic-gamma",
   "metadata": {},
   "outputs": [],
   "source": [
    "l_x[100], l_y[100], l_z[100]"
   ]
  },
  {
   "cell_type": "code",
   "execution_count": null,
   "id": "tribal-there",
   "metadata": {
    "tags": []
   },
   "outputs": [],
   "source": [
    "paciente_1 = {'x': l_x, 'y':l_y, 'z': l_z}"
   ]
  },
  {
   "cell_type": "code",
   "execution_count": null,
   "id": "burning-cement",
   "metadata": {},
   "outputs": [],
   "source": [
    "x = np.round(l_x, 8)"
   ]
  },
  {
   "cell_type": "code",
   "execution_count": null,
   "id": "overhead-semiconductor",
   "metadata": {},
   "outputs": [],
   "source": [
    "y = np.round(l_y, 8)"
   ]
  },
  {
   "cell_type": "code",
   "execution_count": null,
   "id": "african-glasgow",
   "metadata": {},
   "outputs": [],
   "source": [
    "paciente_1 = {'x': x, 'y':y, 'z': l_z}"
   ]
  },
  {
   "cell_type": "code",
   "execution_count": null,
   "id": "parental-trinity",
   "metadata": {},
   "outputs": [],
   "source": [
    "paciente_1"
   ]
  },
  {
   "cell_type": "code",
   "execution_count": null,
   "id": "internal-spiritual",
   "metadata": {},
   "outputs": [],
   "source": [
    "compres_file = pd.DataFrame.from_dict(paciente_1)"
   ]
  },
  {
   "cell_type": "code",
   "execution_count": null,
   "id": "iraqi-glasgow",
   "metadata": {},
   "outputs": [],
   "source": [
    "compres_file.info()"
   ]
  },
  {
   "cell_type": "code",
   "execution_count": null,
   "id": "light-movement",
   "metadata": {},
   "outputs": [],
   "source": [
    "compres_file['z'][1]"
   ]
  },
  {
   "cell_type": "code",
   "execution_count": null,
   "id": "divine-bosnia",
   "metadata": {},
   "outputs": [],
   "source": [
    "compres_file.head()"
   ]
  },
  {
   "cell_type": "code",
   "execution_count": null,
   "id": "alpha-studio",
   "metadata": {},
   "outputs": [],
   "source": [
    "compres_file.to_feather('1_clean_date.feather')"
   ]
  },
  {
   "cell_type": "code",
   "execution_count": null,
   "id": "atomic-editor",
   "metadata": {},
   "outputs": [],
   "source": [
    "pd.read_feather('1_clean.feather')"
   ]
  },
  {
   "cell_type": "code",
   "execution_count": null,
   "id": "acceptable-christopher",
   "metadata": {},
   "outputs": [],
   "source": [
    "b = df['Accelerometer Y'].values"
   ]
  },
  {
   "cell_type": "code",
   "execution_count": null,
   "id": "played-alpha",
   "metadata": {},
   "outputs": [],
   "source": [
    "C = df['Accelerometer Z'].values"
   ]
  },
  {
   "cell_type": "code",
   "execution_count": null,
   "id": "quick-colors",
   "metadata": {},
   "outputs": [],
   "source": [
    "import numpy as np"
   ]
  },
  {
   "cell_type": "code",
   "execution_count": null,
   "id": "female-protest",
   "metadata": {},
   "outputs": [],
   "source": [
    "l = np.mean(a.reshape(-1, 300), axis=1)"
   ]
  },
  {
   "cell_type": "code",
   "execution_count": null,
   "id": "positive-bidder",
   "metadata": {},
   "outputs": [],
   "source": [
    "len (l)"
   ]
  },
  {
   "cell_type": "code",
   "execution_count": null,
   "id": "integral-cannon",
   "metadata": {},
   "outputs": [],
   "source": [
    "import pandas as pd\n",
    "new_series_x = pd.Series(l)"
   ]
  },
  {
   "cell_type": "code",
   "execution_count": null,
   "id": "formed-lewis",
   "metadata": {},
   "outputs": [],
   "source": [
    "new_series_x.head(300)"
   ]
  },
  {
   "cell_type": "code",
   "execution_count": null,
   "id": "derived-pharmaceutical",
   "metadata": {},
   "outputs": [],
   "source": [
    "df.to_items()"
   ]
  },
  {
   "cell_type": "code",
   "execution_count": 1,
   "id": "stainless-ancient",
   "metadata": {},
   "outputs": [],
   "source": [
    "\n",
    "f = open('1.csv','r')"
   ]
  },
  {
   "cell_type": "code",
   "execution_count": 2,
   "id": "sustainable-victor",
   "metadata": {},
   "outputs": [
    {
     "data": {
      "text/plain": [
       "<_io.TextIOWrapper name='1.csv' mode='r' encoding='UTF-8'>"
      ]
     },
     "execution_count": 2,
     "metadata": {},
     "output_type": "execute_result"
    }
   ],
   "source": [
    "f"
   ]
  },
  {
   "cell_type": "code",
   "execution_count": 3,
   "id": "liked-kuwait",
   "metadata": {},
   "outputs": [],
   "source": [
    "#Lines = f.readlines()"
   ]
  },
  {
   "cell_type": "code",
   "execution_count": 21,
   "id": "corrected-corruption",
   "metadata": {},
   "outputs": [],
   "source": [
    "lista = []\n",
    "with open('W018 - TAS1H09200365 (2021-07-13)RAW.csv', \"r\") as f:\n",
    "    counter = 0\n",
    "    for line in f:\n",
    "        lista.append (line)\n",
    "        counter += 1\n",
    "        if counter == 30000: break"
   ]
  },
  {
   "cell_type": "code",
   "execution_count": 22,
   "id": "unlimited-updating",
   "metadata": {},
   "outputs": [
    {
     "data": {
      "text/plain": [
       "'Start Time 18:47:00\\n'"
      ]
     },
     "execution_count": 22,
     "metadata": {},
     "output_type": "execute_result"
    }
   ],
   "source": [
    "lista[2]"
   ]
  },
  {
   "cell_type": "code",
   "execution_count": 23,
   "id": "chief-union",
   "metadata": {},
   "outputs": [
    {
     "data": {
      "text/plain": [
       "'Start Date 4/21/2021\\n'"
      ]
     },
     "execution_count": 23,
     "metadata": {},
     "output_type": "execute_result"
    }
   ],
   "source": [
    "lista[3]"
   ]
  },
  {
   "cell_type": "code",
   "execution_count": 24,
   "id": "endless-strategy",
   "metadata": {},
   "outputs": [
    {
     "data": {
      "text/plain": [
       "'Download Time 00:00:19\\n'"
      ]
     },
     "execution_count": 24,
     "metadata": {},
     "output_type": "execute_result"
    }
   ],
   "source": [
    "lista[5]"
   ]
  },
  {
   "cell_type": "code",
   "execution_count": 6,
   "id": "following-performer",
   "metadata": {},
   "outputs": [
    {
     "ename": "NameError",
     "evalue": "name 'paciente_1' is not defined",
     "output_type": "error",
     "traceback": [
      "\u001b[0;31m---------------------------------------------------------------------------\u001b[0m",
      "\u001b[0;31mNameError\u001b[0m                                 Traceback (most recent call last)",
      "\u001b[0;32m<ipython-input-6-f7c968bc417a>\u001b[0m in \u001b[0;36m<module>\u001b[0;34m\u001b[0m\n\u001b[0;32m----> 1\u001b[0;31m \u001b[0mpaciente_1\u001b[0m\u001b[0;34m[\u001b[0m\u001b[0;34m'start_date'\u001b[0m\u001b[0;34m]\u001b[0m \u001b[0;34m=\u001b[0m \u001b[0mlista\u001b[0m\u001b[0;34m[\u001b[0m\u001b[0;36m3\u001b[0m\u001b[0;34m]\u001b[0m\u001b[0;34m\u001b[0m\u001b[0;34m\u001b[0m\u001b[0m\n\u001b[0m",
      "\u001b[0;31mNameError\u001b[0m: name 'paciente_1' is not defined"
     ]
    }
   ],
   "source": [
    "paciente_1['start_date'] = lista[3]"
   ]
  },
  {
   "cell_type": "code",
   "execution_count": null,
   "id": "complete-munich",
   "metadata": {},
   "outputs": [],
   "source": [
    "paciente_1['start_time'] = lista[2]"
   ]
  },
  {
   "cell_type": "code",
   "execution_count": null,
   "id": "olympic-credit",
   "metadata": {},
   "outputs": [],
   "source": [
    "paciente_1"
   ]
  },
  {
   "cell_type": "code",
   "execution_count": null,
   "id": "sealed-committee",
   "metadata": {},
   "outputs": [],
   "source": [
    "lista = []\n",
    "with open(\"1.csv\") as f:\n",
    "    while chunk := f.read(8192):\n",
    "        for x in f:\n",
    "            lista.append(x)"
   ]
  },
  {
   "cell_type": "code",
   "execution_count": null,
   "id": "similar-berlin",
   "metadata": {},
   "outputs": [],
   "source": [
    "tmp_lines[30]"
   ]
  },
  {
   "cell_type": "code",
   "execution_count": null,
   "id": "driving-partnership",
   "metadata": {},
   "outputs": [],
   "source": [
    "lista"
   ]
  },
  {
   "cell_type": "code",
   "execution_count": null,
   "id": "bizarre-earthquake",
   "metadata": {},
   "outputs": [],
   "source": [
    "limit = []\n",
    "for i, x in enumerate(lista):\n",
    "    if x == 'Accelerometer X,Accelerometer Y,Accelerometer Z\\n':\n",
    "        dic = {}\n",
    "        dic[i] = x\n",
    "    else:\n",
    "        dic[i] = x"
   ]
  },
  {
   "cell_type": "code",
   "execution_count": null,
   "id": "right-cleaners",
   "metadata": {},
   "outputs": [],
   "source": [
    "dic"
   ]
  },
  {
   "cell_type": "code",
   "execution_count": null,
   "id": "threatened-seeker",
   "metadata": {},
   "outputs": [],
   "source": [
    "lista2"
   ]
  },
  {
   "cell_type": "code",
   "execution_count": null,
   "id": "demanding-grenada",
   "metadata": {},
   "outputs": [],
   "source": [
    "lista = []\n",
    "with open('1.csv', \"r\") as f:\n",
    "    counter = 0\n",
    "    for i, line in enumerate(f):\n",
    "        if line == 'Accelerometer X,Accelerometer Y,Accelerometer Z\\n':\n",
    "            print ('yes!!')\n",
    "        lista.append(line)"
   ]
  },
  {
   "cell_type": "code",
   "execution_count": null,
   "id": "divided-siemens",
   "metadata": {},
   "outputs": [],
   "source": [
    "lista[10]"
   ]
  },
  {
   "cell_type": "code",
   "execution_count": null,
   "id": "global-malawi",
   "metadata": {},
   "outputs": [],
   "source": [
    "def read_in_chunks(file_object, chunk_size=1000):\n",
    "    \"\"\"Lazy function (generator) to read a file piece by piece.\n",
    "    Default chunk size: 1k.\"\"\"\n",
    "    while True:\n",
    "        data = file_object.read(chunk_size)\n",
    "        if not data:\n",
    "            break\n",
    "        yield data\n",
    "\n",
    "\n",
    "with open('W018 - TAS1H09200365 (2021-07-13)RAW.csv') as f:\n",
    "    for piece in enumerate(read_in_chunks(f)):\n",
    "        print(piece)"
   ]
  },
  {
   "cell_type": "code",
   "execution_count": null,
   "id": "bibliographic-yemen",
   "metadata": {},
   "outputs": [],
   "source": [
    "lista[0]"
   ]
  },
  {
   "cell_type": "code",
   "execution_count": null,
   "id": "stable-contrast",
   "metadata": {},
   "outputs": [],
   "source": [
    "lista[2]"
   ]
  },
  {
   "cell_type": "code",
   "execution_count": null,
   "id": "permanent-church",
   "metadata": {},
   "outputs": [],
   "source": [
    "import mmap\n",
    "with open(\"1.csv\", \"r+\") as f:\n",
    "    # memory-map the file, size 0 means whole file\n",
    "    map = mmap.mmap(f.fileno(), 0)"
   ]
  },
  {
   "cell_type": "code",
   "execution_count": null,
   "id": "focal-poland",
   "metadata": {},
   "outputs": [],
   "source": [
    "map[60]"
   ]
  },
  {
   "cell_type": "code",
   "execution_count": null,
   "id": "understood-accent",
   "metadata": {},
   "outputs": [],
   "source": [
    "for x in map:\n",
    "    print (x)"
   ]
  },
  {
   "cell_type": "code",
   "execution_count": null,
   "id": "domestic-puzzle",
   "metadata": {},
   "outputs": [],
   "source": [
    "import pickle"
   ]
  },
  {
   "cell_type": "code",
   "execution_count": null,
   "id": "talented-occasions",
   "metadata": {},
   "outputs": [],
   "source": [
    "a = paciente_1\n",
    "with open('paciente_1.pickle', 'wb') as handle:\n",
    "    pickle.dump(a, handle, protocol=pickle.HIGHEST_PROTOCOL)\n",
    "\n",
    "with open('paciente_1.pickle', 'rb') as handle:\n",
    "    b = pickle.load(handle)\n"
   ]
  },
  {
   "cell_type": "code",
   "execution_count": null,
   "id": "retained-broadcast",
   "metadata": {},
   "outputs": [],
   "source": [
    "b"
   ]
  },
  {
   "cell_type": "code",
   "execution_count": null,
   "id": "velvet-debut",
   "metadata": {},
   "outputs": [],
   "source": []
  }
 ],
 "metadata": {
  "kernelspec": {
   "display_name": "Python 3",
   "language": "python",
   "name": "python3"
  },
  "language_info": {
   "codemirror_mode": {
    "name": "ipython",
    "version": 3
   },
   "file_extension": ".py",
   "mimetype": "text/x-python",
   "name": "python",
   "nbconvert_exporter": "python",
   "pygments_lexer": "ipython3",
   "version": "3.8.10"
  }
 },
 "nbformat": 4,
 "nbformat_minor": 5
}
