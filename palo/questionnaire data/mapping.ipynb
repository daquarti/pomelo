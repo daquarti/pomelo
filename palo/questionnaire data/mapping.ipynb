{
 "cells": [
  {
   "cell_type": "code",
   "execution_count": 1,
   "id": "neither-rating",
   "metadata": {},
   "outputs": [],
   "source": [
    "import pandas as pd"
   ]
  },
  {
   "cell_type": "code",
   "execution_count": 9,
   "id": "lesser-nightmare",
   "metadata": {},
   "outputs": [],
   "source": [
    "file = open('map.txt', 'r')\n",
    "Lines = file.readlines()"
   ]
  },
  {
   "cell_type": "code",
   "execution_count": 17,
   "id": "popular-mumbai",
   "metadata": {},
   "outputs": [
    {
     "name": "stdout",
     "output_type": "stream",
     "text": [
      "0\n",
      "LUPA\n",
      "\n",
      "1\n",
      "QUESTIONNAIRE 2:\n",
      "\n",
      "2\n",
      "\n",
      "\n",
      "3\n",
      "Questions:\n",
      "\n",
      "4\n",
      "                   Score\n",
      "\n",
      "5\n",
      "     0  1   2   3   4   5   6   7   8   9   10\n",
      "\n",
      "6\n",
      "\n",
      "\n",
      "7\n",
      "id 16)  5  27  28  29  30  31  32  33  34  35   6\n",
      "\n",
      "8\n",
      "\n",
      "\n",
      "9\n",
      "id 17)  7  27  28  29  30  31  32  33  34  35   8\n",
      "\n",
      "10\n",
      "\n",
      "\n",
      "11\n",
      "id 18)  9  27  28  29  30  31  32  33  34  35   10\n",
      "\n",
      "12\n",
      "\n",
      "\n",
      "13\n",
      "id 19)  11 27  28  29  30  31  32  33  34  35   12\n",
      "\n",
      "14\n",
      "\n",
      "\n",
      "15\n",
      "id 20)  13 27  28  29  30  31  32  33  34  35   14\n",
      "\n",
      "16\n",
      "\n",
      "\n",
      "17\n",
      "id 21)  15 27  28  29  30  31  32  33  34  35   16\n",
      "\n",
      "18\n",
      "\n",
      "\n",
      "19\n",
      "id 22)  17 27  28  29  30  31  32  33  34  35   18\n",
      "\n",
      "20\n",
      "\n",
      "\n",
      "21\n",
      "id 23)  19 27  28  29  30  31  32  33  34  35   20\n",
      "\n",
      "22\n",
      "\n",
      "\n",
      "23\n",
      "id 24)  21 27  28  29  30  31  32  33  34  35   22\n",
      "\n",
      "24\n",
      "\n",
      "\n",
      "25\n",
      "id 25)  23 27  28  29  30  31  32  33  34  35   24\n",
      "\n",
      "26\n",
      "\n",
      "\n",
      "27\n",
      "id 26)  25 27  28  29  30  31  32  33  34  35   26\n"
     ]
    }
   ],
   "source": [
    "for i, x in enumerate(Lines):\n",
    "    print (i)\n",
    "    print (x)"
   ]
  },
  {
   "cell_type": "code",
   "execution_count": 33,
   "id": "million-dallas",
   "metadata": {},
   "outputs": [
    {
     "data": {
      "text/plain": [
       "'     0  1   2   3   4   5   6   7   8   9   10\\n'"
      ]
     },
     "execution_count": 33,
     "metadata": {},
     "output_type": "execute_result"
    }
   ],
   "source": [
    "Lines[5]"
   ]
  },
  {
   "cell_type": "code",
   "execution_count": 22,
   "id": "breathing-heater",
   "metadata": {},
   "outputs": [],
   "source": [
    "filtra = Lines[7:]"
   ]
  },
  {
   "cell_type": "code",
   "execution_count": 30,
   "id": "norman-employment",
   "metadata": {},
   "outputs": [
    {
     "name": "stdout",
     "output_type": "stream",
     "text": [
      "out\n",
      "out\n",
      "out\n",
      "out\n",
      "out\n",
      "out\n",
      "out\n",
      "out\n",
      "out\n",
      "out\n",
      "out\n",
      "out\n"
     ]
    }
   ],
   "source": [
    "lista_extract = []\n",
    "for x in filtra[0].split(\" \"):\n",
    "    if x == \"\":\n",
    "        print('out')\n",
    "    else:\n",
    "        lista_extract.append(x.strip())"
   ]
  },
  {
   "cell_type": "code",
   "execution_count": 60,
   "id": "impaired-discharge",
   "metadata": {},
   "outputs": [],
   "source": [
    "dic = {}\n",
    "dic['id'] = lista_extract[1][:2]\n",
    "for i, x in enumerate(lista_extract[2:]):\n",
    "     dic[i] = x\n"
   ]
  },
  {
   "cell_type": "code",
   "execution_count": null,
   "id": "japanese-genius",
   "metadata": {},
   "outputs": [],
   "source": []
  },
  {
   "cell_type": "code",
   "execution_count": 61,
   "id": "laden-criminal",
   "metadata": {},
   "outputs": [],
   "source": [
    "l = [dic, dic, dic]"
   ]
  },
  {
   "cell_type": "code",
   "execution_count": 62,
   "id": "perceived-tourist",
   "metadata": {},
   "outputs": [
    {
     "data": {
      "text/html": [
       "<div>\n",
       "<style scoped>\n",
       "    .dataframe tbody tr th:only-of-type {\n",
       "        vertical-align: middle;\n",
       "    }\n",
       "\n",
       "    .dataframe tbody tr th {\n",
       "        vertical-align: top;\n",
       "    }\n",
       "\n",
       "    .dataframe thead th {\n",
       "        text-align: right;\n",
       "    }\n",
       "</style>\n",
       "<table border=\"1\" class=\"dataframe\">\n",
       "  <thead>\n",
       "    <tr style=\"text-align: right;\">\n",
       "      <th></th>\n",
       "      <th>id</th>\n",
       "      <th>0</th>\n",
       "      <th>1</th>\n",
       "      <th>2</th>\n",
       "      <th>3</th>\n",
       "      <th>4</th>\n",
       "      <th>5</th>\n",
       "      <th>6</th>\n",
       "      <th>7</th>\n",
       "      <th>8</th>\n",
       "      <th>9</th>\n",
       "      <th>10</th>\n",
       "    </tr>\n",
       "  </thead>\n",
       "  <tbody>\n",
       "    <tr>\n",
       "      <th>0</th>\n",
       "      <td>16</td>\n",
       "      <td>5</td>\n",
       "      <td>27</td>\n",
       "      <td>28</td>\n",
       "      <td>29</td>\n",
       "      <td>30</td>\n",
       "      <td>31</td>\n",
       "      <td>32</td>\n",
       "      <td>33</td>\n",
       "      <td>34</td>\n",
       "      <td>35</td>\n",
       "      <td>6</td>\n",
       "    </tr>\n",
       "    <tr>\n",
       "      <th>1</th>\n",
       "      <td>16</td>\n",
       "      <td>5</td>\n",
       "      <td>27</td>\n",
       "      <td>28</td>\n",
       "      <td>29</td>\n",
       "      <td>30</td>\n",
       "      <td>31</td>\n",
       "      <td>32</td>\n",
       "      <td>33</td>\n",
       "      <td>34</td>\n",
       "      <td>35</td>\n",
       "      <td>6</td>\n",
       "    </tr>\n",
       "    <tr>\n",
       "      <th>2</th>\n",
       "      <td>16</td>\n",
       "      <td>5</td>\n",
       "      <td>27</td>\n",
       "      <td>28</td>\n",
       "      <td>29</td>\n",
       "      <td>30</td>\n",
       "      <td>31</td>\n",
       "      <td>32</td>\n",
       "      <td>33</td>\n",
       "      <td>34</td>\n",
       "      <td>35</td>\n",
       "      <td>6</td>\n",
       "    </tr>\n",
       "  </tbody>\n",
       "</table>\n",
       "</div>"
      ],
      "text/plain": [
       "   id  0   1   2   3   4   5   6   7   8   9 10\n",
       "0  16  5  27  28  29  30  31  32  33  34  35  6\n",
       "1  16  5  27  28  29  30  31  32  33  34  35  6\n",
       "2  16  5  27  28  29  30  31  32  33  34  35  6"
      ]
     },
     "execution_count": 62,
     "metadata": {},
     "output_type": "execute_result"
    }
   ],
   "source": [
    "pd.DataFrame.from_dict(l)"
   ]
  },
  {
   "cell_type": "code",
   "execution_count": null,
   "id": "civil-roulette",
   "metadata": {},
   "outputs": [],
   "source": []
  },
  {
   "cell_type": "code",
   "execution_count": 97,
   "id": "labeled-allah",
   "metadata": {},
   "outputs": [],
   "source": [
    "def extrae (lista):\n",
    "    lista_extract_final = []\n",
    "    for x in lista:\n",
    "        print (x)\n",
    "        lista_extract = []\n",
    "        for y in x.split(\" \"):\n",
    "            if y != \"\":\n",
    "                lista_extract.append(x.strip())\n",
    "        lista_extract_final.append(lista_extract)\n",
    "    return lista_extract_final"
   ]
  },
  {
   "cell_type": "code",
   "execution_count": 99,
   "id": "covered-circular",
   "metadata": {},
   "outputs": [],
   "source": [
    "def extract_lista (filtra):\n",
    "    lista_extract_final = []\n",
    "    for x in filtra:\n",
    "        lista_extract = []\n",
    "        for y in x.split(\" \"):\n",
    "            if y != \"\":\n",
    "                lista_extract.append(y.strip())\n",
    "        if len(lista_extract)>1:\n",
    "            lista_extract_final.append(lista_extract)\n",
    "    return lista_extract_final        "
   ]
  },
  {
   "cell_type": "code",
   "execution_count": 102,
   "id": "absolute-eating",
   "metadata": {},
   "outputs": [],
   "source": [
    "def generate_dic (lista_extract):\n",
    "    dic = {}\n",
    "    dic['id'] = lista_extract[1][:2]\n",
    "    for i, x in enumerate(lista_extract[2:]):\n",
    "         dic[i] = x\n",
    "    return dic"
   ]
  },
  {
   "cell_type": "code",
   "execution_count": 103,
   "id": "desperate-valuable",
   "metadata": {},
   "outputs": [],
   "source": [
    "p = extract_lista(filtra)"
   ]
  },
  {
   "cell_type": "code",
   "execution_count": 105,
   "id": "dirty-enough",
   "metadata": {},
   "outputs": [],
   "source": [
    "lista = []\n",
    "for x in p:\n",
    "    lista.append (generate_dic(x))\n",
    "    "
   ]
  },
  {
   "cell_type": "code",
   "execution_count": 113,
   "id": "surrounded-impression",
   "metadata": {},
   "outputs": [],
   "source": [
    "df2 = pd.DataFrame.from_dict(lista).set_index('id')"
   ]
  },
  {
   "cell_type": "code",
   "execution_count": 152,
   "id": "alien-australian",
   "metadata": {},
   "outputs": [
    {
     "data": {
      "text/plain": [
       "0"
      ]
     },
     "execution_count": 152,
     "metadata": {},
     "output_type": "execute_result"
    }
   ],
   "source": [
    "df2.loc['17'].to_list().index()"
   ]
  },
  {
   "cell_type": "code",
   "execution_count": 123,
   "id": "lasting-honduras",
   "metadata": {},
   "outputs": [],
   "source": [
    "df2.to_csv ('mapping_keys.csv')"
   ]
  },
  {
   "cell_type": "code",
   "execution_count": 144,
   "id": "identical-trade",
   "metadata": {},
   "outputs": [],
   "source": [
    "df3 = pd.read_csv ('mapping_keys.csv')"
   ]
  },
  {
   "cell_type": "code",
   "execution_count": null,
   "id": "south-fetish",
   "metadata": {},
   "outputs": [],
   "source": [
    "pd.da"
   ]
  },
  {
   "cell_type": "code",
   "execution_count": 90,
   "id": "roman-forward",
   "metadata": {},
   "outputs": [
    {
     "data": {
      "text/plain": [
       "13"
      ]
     },
     "execution_count": 90,
     "metadata": {},
     "output_type": "execute_result"
    }
   ],
   "source": [
    "len(lista_extract_final[1])"
   ]
  },
  {
   "cell_type": "code",
   "execution_count": 91,
   "id": "arranged-cement",
   "metadata": {},
   "outputs": [
    {
     "data": {
      "text/plain": [
       "[['id', '16)', '5', '27', '28', '29', '30', '31', '32', '33', '34', '35', '6'],\n",
       " ['id', '17)', '7', '27', '28', '29', '30', '31', '32', '33', '34', '35', '8'],\n",
       " ['id',\n",
       "  '18)',\n",
       "  '9',\n",
       "  '27',\n",
       "  '28',\n",
       "  '29',\n",
       "  '30',\n",
       "  '31',\n",
       "  '32',\n",
       "  '33',\n",
       "  '34',\n",
       "  '35',\n",
       "  '10'],\n",
       " ['id',\n",
       "  '19)',\n",
       "  '11',\n",
       "  '27',\n",
       "  '28',\n",
       "  '29',\n",
       "  '30',\n",
       "  '31',\n",
       "  '32',\n",
       "  '33',\n",
       "  '34',\n",
       "  '35',\n",
       "  '12'],\n",
       " ['id',\n",
       "  '20)',\n",
       "  '13',\n",
       "  '27',\n",
       "  '28',\n",
       "  '29',\n",
       "  '30',\n",
       "  '31',\n",
       "  '32',\n",
       "  '33',\n",
       "  '34',\n",
       "  '35',\n",
       "  '14'],\n",
       " ['id',\n",
       "  '21)',\n",
       "  '15',\n",
       "  '27',\n",
       "  '28',\n",
       "  '29',\n",
       "  '30',\n",
       "  '31',\n",
       "  '32',\n",
       "  '33',\n",
       "  '34',\n",
       "  '35',\n",
       "  '16'],\n",
       " ['id',\n",
       "  '22)',\n",
       "  '17',\n",
       "  '27',\n",
       "  '28',\n",
       "  '29',\n",
       "  '30',\n",
       "  '31',\n",
       "  '32',\n",
       "  '33',\n",
       "  '34',\n",
       "  '35',\n",
       "  '18'],\n",
       " ['id',\n",
       "  '23)',\n",
       "  '19',\n",
       "  '27',\n",
       "  '28',\n",
       "  '29',\n",
       "  '30',\n",
       "  '31',\n",
       "  '32',\n",
       "  '33',\n",
       "  '34',\n",
       "  '35',\n",
       "  '20'],\n",
       " ['id',\n",
       "  '24)',\n",
       "  '21',\n",
       "  '27',\n",
       "  '28',\n",
       "  '29',\n",
       "  '30',\n",
       "  '31',\n",
       "  '32',\n",
       "  '33',\n",
       "  '34',\n",
       "  '35',\n",
       "  '22'],\n",
       " ['id',\n",
       "  '25)',\n",
       "  '23',\n",
       "  '27',\n",
       "  '28',\n",
       "  '29',\n",
       "  '30',\n",
       "  '31',\n",
       "  '32',\n",
       "  '33',\n",
       "  '34',\n",
       "  '35',\n",
       "  '24'],\n",
       " ['id',\n",
       "  '26)',\n",
       "  '25',\n",
       "  '27',\n",
       "  '28',\n",
       "  '29',\n",
       "  '30',\n",
       "  '31',\n",
       "  '32',\n",
       "  '33',\n",
       "  '34',\n",
       "  '35',\n",
       "  '26']]"
      ]
     },
     "execution_count": 91,
     "metadata": {},
     "output_type": "execute_result"
    }
   ],
   "source": [
    "lista_extract_final"
   ]
  },
  {
   "cell_type": "code",
   "execution_count": null,
   "id": "hawaiian-hungarian",
   "metadata": {},
   "outputs": [],
   "source": []
  }
 ],
 "metadata": {
  "kernelspec": {
   "display_name": "Python 3",
   "language": "python",
   "name": "python3"
  },
  "language_info": {
   "codemirror_mode": {
    "name": "ipython",
    "version": 3
   },
   "file_extension": ".py",
   "mimetype": "text/x-python",
   "name": "python",
   "nbconvert_exporter": "python",
   "pygments_lexer": "ipython3",
   "version": "3.8.10"
  }
 },
 "nbformat": 4,
 "nbformat_minor": 5
}
